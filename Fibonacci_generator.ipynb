{
 "cells": [
  {
   "cell_type": "code",
   "execution_count": 10,
   "metadata": {},
   "outputs": [
    {
     "name": "stdout",
     "output_type": "stream",
     "text": [
      "Fibonacci sequence is: [0, 1, 1, 2, 3, 5, 8, 13, 21, 34]\n",
      "Fibonacci of 10 = 34\n"
     ]
    }
   ],
   "source": [
    "# this function generate a fibonacci generator starts with 0 as it is the common form\n",
    "def Fibonacci_generator(num):\n",
    "    start,next = 0, 1\n",
    "    Fibonacci_Sequence = []\n",
    "\n",
    "    if num <= 0:\n",
    "        print(\"Enter a number greater than 0\")\n",
    "    else:\n",
    "        for i in range(num):\n",
    "            Fibonacci_Sequence.append(start)\n",
    "            start,next = next, start+next\n",
    "    \n",
    "    print(\"Fibonacci sequence is: \" + str(Fibonacci_Sequence))\n",
    "\n",
    "    print(\"Fibonacci of \" + str(num) + \" = \" + str(Fibonacci_Sequence[i-1] + Fibonacci_Sequence[i-2]))\n",
    "    #print(\"Fibonacci of \" + str(num) + \" = \" + str(Fibonacci_Sequence[-1]))\n",
    "    \n",
    "\n",
    "#start_num = int(input(\"start num: \"))\n",
    "n_fibonaicci = int(input(\"How many Fibonaccis to generate: \"))\n",
    "Fibonacci_generator(n_fibonaicci)"
   ]
  }
 ],
 "metadata": {
  "kernelspec": {
   "display_name": "Python 3",
   "language": "python",
   "name": "python3"
  },
  "language_info": {
   "codemirror_mode": {
    "name": "ipython",
    "version": 3
   },
   "file_extension": ".py",
   "mimetype": "text/x-python",
   "name": "python",
   "nbconvert_exporter": "python",
   "pygments_lexer": "ipython3",
   "version": "3.12.3"
  }
 },
 "nbformat": 4,
 "nbformat_minor": 2
}
